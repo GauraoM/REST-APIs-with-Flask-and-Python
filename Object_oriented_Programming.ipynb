{
  "nbformat": 4,
  "nbformat_minor": 0,
  "metadata": {
    "colab": {
      "name": "Object oriented Programming.ipynb",
      "provenance": [],
      "authorship_tag": "ABX9TyPNjkPt6ALEuwdpcR23pZM6",
      "include_colab_link": true
    },
    "kernelspec": {
      "name": "python3",
      "display_name": "Python 3"
    },
    "language_info": {
      "name": "python"
    }
  },
  "cells": [
    {
      "cell_type": "markdown",
      "metadata": {
        "id": "view-in-github",
        "colab_type": "text"
      },
      "source": [
        "<a href=\"https://colab.research.google.com/github/GauraoM/REST-APIs-with-Flask-and-Python/blob/main/Object_oriented_Programming.ipynb\" target=\"_parent\"><img src=\"https://colab.research.google.com/assets/colab-badge.svg\" alt=\"Open In Colab\"/></a>"
      ]
    },
    {
      "cell_type": "markdown",
      "source": [
        "#### Class Method\n",
        "##### Class method bounds to the Class not the Object of the Class"
      ],
      "metadata": {
        "id": "8gW0g580KHaK"
      }
    },
    {
      "cell_type": "code",
      "execution_count": 8,
      "metadata": {
        "colab": {
          "base_uri": "https://localhost:8080/"
        },
        "id": "z4Jc_yl3JxHp",
        "outputId": "1c82c4ee-5156-45fb-afc0-321f81ee4017"
      },
      "outputs": [
        {
          "output_type": "stream",
          "name": "stdout",
          "text": [
            "<Book HarryPotter,hardcover,200 >\n",
            "<Book Stranger,paperback,100 >\n"
          ]
        }
      ],
      "source": [
        "class Book:\n",
        "\n",
        "  Type = ('hardcover','paperback')\n",
        "  \n",
        "  # Initializing Constructor\n",
        "  def __init__(self, name, book_type, weight):\n",
        "    self.name = name\n",
        "    self.book_type = book_type\n",
        "    self.weight = weight\n",
        "\n",
        "  # Returns string\n",
        "  def __repr__(self):\n",
        "    return f'<Book {self.name},{self.book_type},{self.weight} >'  \n",
        "\n",
        "  # Creating Class method for hardcover\n",
        "  @classmethod\n",
        "  def hardcover(cls, name, page_weight):\n",
        "    return Book(name, Book.Type[0], page_weight + 100)  \n",
        "\n",
        "  # Creating Class Method for paperback \n",
        "  @classmethod\n",
        "  def paperback(cls, name, page_weight):\n",
        "    return cls(name, cls.Type[1], page_weight)\n",
        "\n",
        "book = Book.hardcover(\"HarryPotter\", 100)\n",
        "print(book) \n",
        "\n",
        "light = Book.paperback(\"Stranger\", 100)\n",
        "print(light)"
      ]
    },
    {
      "cell_type": "markdown",
      "source": [
        "#### Class Inheritance\n",
        "#### One class properties to be inherited to another class"
      ],
      "metadata": {
        "id": "jRE2FQXBglR0"
      }
    },
    {
      "cell_type": "code",
      "source": [
        "# Creating device Class\n",
        "class Device:\n",
        "  # Initialize Constructor\n",
        "  def __init__(self, name, connected_by):\n",
        "    self.name = name\n",
        "    self.connected_by = connected_by\n",
        "    self.connected = True\n",
        "\n",
        "  # Creating String Method\n",
        "  def __str__(self):\n",
        "    return f'Device({self.name}, {self.connected_by})'  \n",
        "\n",
        "  def disconnected(self):\n",
        "    self.disconnected = False\n",
        "    print(\"Disconnected\")   \n",
        "\n",
        "# Creating new class Printer inherited property from Device class\n",
        "class Printer(Device):\n",
        "\n",
        "  # Initialize Constructor\n",
        "  def __init__(self,name, connected_by, capacity):\n",
        "  # Inherit the constructor method from Device Class\n",
        "    super().__init__(name, connected_by)\n",
        "    self.capcity = capacity\n",
        "    self.remaining_pages = capacity\n",
        "\n",
        "  def __str__(self):\n",
        "    # Inherit string method from Device Class\n",
        "    return f\"{super().__str__()} ({self.remaining_pages} pages remaining)\"   \n",
        "\n",
        "  def printing(self, pages):\n",
        "    if not self.connected:\n",
        "      print(\"You are disconnected\")\n",
        "      return\n",
        "    print(f\"remaining {pages}\")\n",
        "    self.remaining_pages -= pages\n",
        "\n",
        "printer = Printer(\"Printer\", \"USB\", 500)\n",
        "printer.printing(20)\n",
        "print(printer)          "
      ],
      "metadata": {
        "colab": {
          "base_uri": "https://localhost:8080/"
        },
        "id": "he0epI-WgqUi",
        "outputId": "b65645f9-a8ce-40bc-ecd1-5f98280ed0b7"
      },
      "execution_count": 13,
      "outputs": [
        {
          "output_type": "stream",
          "name": "stdout",
          "text": [
            "remaining 20\n",
            "Device(Printer, USB) (480 pages remaining)\n"
          ]
        }
      ]
    }
  ]
}